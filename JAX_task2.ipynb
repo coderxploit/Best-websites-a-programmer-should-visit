{
  "nbformat": 4,
  "nbformat_minor": 0,
  "metadata": {
    "colab": {
      "name": "JAX task2.ipynb",
      "provenance": [],
      "authorship_tag": "ABX9TyPSgMTDpioP+PoUMyqQ6MlU",
      "include_colab_link": true
    },
    "kernelspec": {
      "name": "python3",
      "display_name": "Python 3"
    },
    "language_info": {
      "name": "python"
    }
  },
  "cells": [
    {
      "cell_type": "markdown",
      "metadata": {
        "id": "view-in-github",
        "colab_type": "text"
      },
      "source": [
        "<a href=\"https://colab.research.google.com/github/coderxploit/Best-websites-a-programmer-should-visit/blob/master/JAX_task2.ipynb\" target=\"_parent\"><img src=\"https://colab.research.google.com/assets/colab-badge.svg\" alt=\"Open In Colab\"/></a>"
      ]
    },
    {
      "cell_type": "code",
      "execution_count": null,
      "metadata": {
        "id": "0L6fmWu3uTre"
      },
      "outputs": [],
      "source": [
        ""
      ]
    }
  ]
}